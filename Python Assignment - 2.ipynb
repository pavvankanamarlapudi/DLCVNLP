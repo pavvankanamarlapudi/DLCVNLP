{
  "nbformat": 4,
  "nbformat_minor": 0,
  "metadata": {
    "colab": {
      "name": "Untitled0.ipynb",
      "provenance": [],
      "collapsed_sections": []
    },
    "kernelspec": {
      "name": "python3",
      "display_name": "Python 3"
    },
    "language_info": {
      "name": "python"
    },
    "accelerator": "GPU"
  },
  "cells": [
    {
      "cell_type": "markdown",
      "metadata": {
        "id": "219GSj3zPvVp"
      },
      "source": [
        "\n",
        "1.2 Write a function filter_long_words() that takes a list of words and an integer n and returns the list of words that are longer than n."
      ]
    },
    {
      "cell_type": "code",
      "metadata": {
        "id": "0eNpsHWIPsrS"
      },
      "source": [
        "def filter_long_words(lst,n):\n",
        "  return list(filter(lambda x:len(x)>n,lst))\n"
      ],
      "execution_count": 8,
      "outputs": []
    },
    {
      "cell_type": "code",
      "metadata": {
        "colab": {
          "base_uri": "https://localhost:8080/"
        },
        "id": "rWaVYjP0RGNN",
        "outputId": "805d2b25-ee55-4c31-feba-0cbe6270c032"
      },
      "source": [
        "a = ['cat','apple','dog']\n",
        "filter_long_words(a,3)"
      ],
      "execution_count": 9,
      "outputs": [
        {
          "output_type": "execute_result",
          "data": {
            "text/plain": [
              "['apple']"
            ]
          },
          "metadata": {
            "tags": []
          },
          "execution_count": 9
        }
      ]
    },
    {
      "cell_type": "code",
      "metadata": {
        "id": "6JSgYYP7RJds"
      },
      "source": [
        ""
      ],
      "execution_count": 3,
      "outputs": []
    },
    {
      "cell_type": "markdown",
      "metadata": {
        "id": "eJN6K_joSFXD"
      },
      "source": [
        "2.1 Write a Python program using function concept that maps list of words into a list of integers\n",
        "representing the lengths of the corresponding words."
      ]
    },
    {
      "cell_type": "code",
      "metadata": {
        "colab": {
          "base_uri": "https://localhost:8080/"
        },
        "id": "hP3pK0FNSGrs",
        "outputId": "a4f977d1-367d-4152-aee7-ae141b6aad71"
      },
      "source": [
        "\n",
        "def words_to_int(sample):\n",
        "  return list(map(len,sample))\n",
        "\n",
        "\n",
        "sample = ['ab','cde','erty']\n",
        "\n",
        "words_to_int(sample)"
      ],
      "execution_count": 11,
      "outputs": [
        {
          "output_type": "execute_result",
          "data": {
            "text/plain": [
              "[2, 3, 4]"
            ]
          },
          "metadata": {
            "tags": []
          },
          "execution_count": 11
        }
      ]
    },
    {
      "cell_type": "code",
      "metadata": {
        "id": "WJdf5GhJS4q9"
      },
      "source": [
        ""
      ],
      "execution_count": null,
      "outputs": []
    },
    {
      "cell_type": "markdown",
      "metadata": {
        "id": "3kSE9G75S5QC"
      },
      "source": [
        "2.2 Write a Python function which takes a character (i.e. a string of length 1) and returns True if\n",
        "it is a vowel, False otherwise."
      ]
    },
    {
      "cell_type": "code",
      "metadata": {
        "colab": {
          "base_uri": "https://localhost:8080/"
        },
        "id": "6XqFCQweS51-",
        "outputId": "ee86e942-8fd0-4025-c24b-e0c859662a04"
      },
      "source": [
        "vowels = ['a','e','i','o','u']\n",
        "\n",
        "def vowel_or_not(charac):\n",
        "  if isinstance(charac,str):\n",
        "    if charac in vowels:\n",
        "      return True\n",
        "    else:\n",
        "      return False\n",
        "\n",
        "charc = 'a'\n",
        "vowel_or_not(charc)"
      ],
      "execution_count": 15,
      "outputs": [
        {
          "output_type": "execute_result",
          "data": {
            "text/plain": [
              "True"
            ]
          },
          "metadata": {
            "tags": []
          },
          "execution_count": 15
        }
      ]
    },
    {
      "cell_type": "markdown",
      "metadata": {
        "id": "D7xrlh1zT8YM"
      },
      "source": [
        "\n",
        "1.1 Write a Python Program(with class concepts) to find the area of the triangle using the below\n",
        "formula.\n",
        "area = (s*(s-a)*(s-b)*(s-c)) ** 0.5"
      ]
    },
    {
      "cell_type": "code",
      "metadata": {
        "id": "QsvifvSIT4wZ"
      },
      "source": [
        "class Triangle:\n",
        "  def __init__(self):\n",
        "    pass\n",
        "  def area(self,s,a,b,c):\n",
        "    return ((s-a)*(s-b)*(s-c))*0.5\n",
        "\n",
        "\n",
        "traingle1 = Triangle()\n",
        "traingle1.area(4,3,1,1)"
      ],
      "execution_count": 20,
      "outputs": []
    }
  ]
}